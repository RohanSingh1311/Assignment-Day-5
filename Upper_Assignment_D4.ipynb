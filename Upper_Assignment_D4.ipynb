{
  "nbformat": 4,
  "nbformat_minor": 0,
  "metadata": {
    "colab": {
      "name": "Upper Assignment D4.ipynb",
      "provenance": [],
      "collapsed_sections": []
    },
    "kernelspec": {
      "name": "python3",
      "display_name": "Python 3"
    }
  },
  "cells": [
    {
      "cell_type": "code",
      "metadata": {
        "id": "sR3ZiK_Z5rZ2",
        "colab_type": "code",
        "colab": {
          "base_uri": "https://localhost:8080/",
          "height": 34
        },
        "outputId": "f6c4c986-843d-460d-823c-1e9b838cfd41"
      },
      "source": [
        " mylist = [\"hi Sai\", \"ThiS iS Student\", \"Day 4 assignment\"]\n",
        "\n",
        "print(list(map(lambda x: x.upper(), mylist)))"
      ],
      "execution_count": 5,
      "outputs": [
        {
          "output_type": "stream",
          "text": [
            "['HI SAI', 'THIS IS STUDENT', 'DAY 4 ASSIGNMENT']\n"
          ],
          "name": "stdout"
        }
      ]
    }
  ]
}