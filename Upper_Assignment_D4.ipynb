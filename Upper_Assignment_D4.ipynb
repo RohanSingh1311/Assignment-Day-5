{
  "nbformat": 4,
  "nbformat_minor": 0,
  "metadata": {
    "colab": {
      "name": "Upper Assignment D4.ipynb",
      "provenance": [],
      "collapsed_sections": []
    },
    "kernelspec": {
      "name": "python3",
      "display_name": "Python 3"
    }
  },
  "cells": [
    {
      "cell_type": "code",
      "metadata": {
        "id": "sR3ZiK_Z5rZ2",
        "colab_type": "code",
        "colab": {
          "base_uri": "https://localhost:8080/",
          "height": 34
        },
        "outputId": "e96cf8d2-d2d2-4406-9802-fa28d282dec3"
      },
      "source": [
        " mylist = [\"hi Sai\", \"ThiS iS Student\", \"Day 4 assignment\",\"letsupgrade rocks\"]\n",
        "\n",
        "print(list(map(lambda x: x.title(), mylist)))"
      ],
      "execution_count": 4,
      "outputs": [
        {
          "output_type": "stream",
          "text": [
            "['Hi Sai', 'This Is Student', 'Day 4 Assignment', 'Letsupgrade Rocks']\n"
          ],
          "name": "stdout"
        }
      ]
    },
    {
      "cell_type": "code",
      "metadata": {
        "id": "plVVjObZ0Ozu",
        "colab_type": "code",
        "colab": {}
      },
      "source": [
        ""
      ],
      "execution_count": null,
      "outputs": []
    }
  ]
}